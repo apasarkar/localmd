{
 "cells": [
  {
   "cell_type": "code",
   "execution_count": 1,
   "id": "3e74c0e1-964b-4498-b221-1f01f66ff0d3",
   "metadata": {},
   "outputs": [
    {
     "name": "stderr",
     "output_type": "stream",
     "text": [
      "/data/home/app2139/anaconda3/envs/masknmf_full_pipeline/lib/python3.9/site-packages/tqdm/auto.py:21: TqdmWarning: IProgress not found. Please update jupyter and ipywidgets. See https://ipywidgets.readthedocs.io/en/stable/user_install.html\n",
      "  from .autonotebook import tqdm as notebook_tqdm\n"
     ]
    }
   ],
   "source": [
    "from localmd.decomposition import localmd_decomposition, display, factored_svd\n",
    "import localmd.tiff_loader as tiff_loader\n",
    "import scipy\n",
    "import scipy.sparse\n",
    "import jax\n",
    "import jax.scipy\n",
    "import jax.numpy as jnp\n",
    "import numpy as np\n",
    "from jax import jit, vmap\n",
    "\n",
    "import os\n",
    "\n",
    "#This line is a temporary flag used to avoid memory allocation errors\n",
    "import functools\n",
    "from functools import partial\n",
    "import time\n",
    "import torch\n",
    "import tifffile\n",
    "import matplotlib.pyplot as plt\n",
    "\n",
    "%load_ext autoreload\n",
    "%load_ext line_profiler"
   ]
  },
  {
   "cell_type": "code",
   "execution_count": 2,
   "id": "934cb0a8-e04a-469b-a382-676dc1db367c",
   "metadata": {},
   "outputs": [],
   "source": [
    "#Default parameters (can be modified..)\n",
    "\n",
    "pmd_params_dict = {\n",
    "    'block_height':32,\n",
    "    'block_width':32,\n",
    "    'overlaps_height':16,\n",
    "    'overlaps_width':16,\n",
    "    'window_range':10000,\n",
    "    'background_rank':15,\n",
    "    'deconvolve':True,\n",
    "    'max_consec_failures':1,\n",
    "    'rank_prune_factor':0.25,\n",
    "    'max_components':100,\n",
    "    'window_length': 1000\n",
    "}\n",
    "\n",
    "\n",
    "#NOTE: this data folder will also contain the location of the TestData\n",
    "block_height = pmd_params_dict['block_height']\n",
    "block_width = pmd_params_dict['block_width'] \n",
    "block_sizes = [block_height, block_width]\n",
    "\n",
    "overlaps_height = pmd_params_dict['overlaps_height'] \n",
    "overlaps_width = pmd_params_dict['overlaps_width'] \n",
    "\n",
    "if overlaps_height > block_height: \n",
    "    print(\"Overlaps height was set to be greater than block height, which is not valid\")\n",
    "    print(\"Setting overlaps to be 5\")\n",
    "    overlaps_height = 5\n",
    "\n",
    "if overlaps_width > block_width:\n",
    "    print(\"Overlaps width was set to be greater than width height, which is not valid \\\n",
    "    Setting overlaps to be 5\")\n",
    "    overlaps_width = 5\n",
    "\n",
    "overlap = [overlaps_height, overlaps_width]\n",
    "\n",
    "max_consec_failures = pmd_params_dict['max_consec_failures']\n",
    "# explained_variance_threshold = pmd_params_dict['explained_variance_threshold']\n",
    "rank_prune_factor = pmd_params_dict['rank_prune_factor']\n",
    "\n",
    "\n",
    "window_range = pmd_params_dict['window_range'] \n",
    "if window_range <= 0:\n",
    "    print(\"Window length cannot be negative! Resetting to 6000\")\n",
    "    window_range = 6000\n",
    "start = 0\n",
    "end = window_range\n",
    "\n",
    "window_length = pmd_params_dict['window_length']\n",
    "\n",
    "# num_frames_decompose = window_length\n",
    "\n",
    "background_rank = pmd_params_dict['background_rank'] \n",
    "deconvolve=True\n",
    "deconv_batch=1000\n",
    "\n",
    "###THESE PARAMS ARE NEVER MODIFIED\n",
    "sim_conf = 5\n",
    "\n",
    "#@markdown Keep run_deconv true unless you do not want to run maskNMF demixing\n",
    "run_deconv = True\n",
    "max_components = pmd_params_dict['max_components']\n",
    "\n",
    "corrector = None\n",
    "\n",
    "tiff_batch_size = 100\n",
    "pixel_batch_size = 10000\n",
    "dtype=\"float32\"\n",
    "\n",
    "order = \"F\""
   ]
  },
  {
   "cell_type": "code",
   "execution_count": 3,
   "id": "e3073d0a-680d-4c2f-af03-4f99a084b134",
   "metadata": {},
   "outputs": [],
   "source": [
    "input_file = \"../datasets/demoMovie.tif\""
   ]
  },
  {
   "cell_type": "code",
   "execution_count": 1,
   "id": "1a089525-eb3c-4fd3-a066-b6f593308216",
   "metadata": {},
   "outputs": [],
   "source": [
    "%lprun -f factored_svd U, R, s, V, std_img, mean_img, data_shape, data_order, = localmd_decomposition(input_file, block_sizes, overlap, [start, end], \\\n",
    "                                max_components=max_components, background_rank = background_rank, sim_conf=sim_conf,\\\n",
    "                                 tiff_batch_size=tiff_batch_size,pixel_batch_size=pixel_batch_size, dtype=dtype, order=order, \\\n",
    "                                 num_workers=0, frame_corrector_obj = corrector, max_consec_failures=max_consec_failures, rank_prune_factor=rank_prune_factor)\n",
    "\n",
    "U = U.tocsr()\n",
    "U = U.astype(\"float32\")\n",
    "R = R.astype(\"float32\")\n",
    "s = s.astype(\"float32\")\n",
    "V = V.astype(\"float32\")"
   ]
  },
  {
   "cell_type": "code",
   "execution_count": 6,
   "id": "cbf94bc1-6d3a-4bd6-b674-6af77834bd30",
   "metadata": {},
   "outputs": [],
   "source": [
    "np.savez(\"INSERT_SAVE_NAME_HERE.npz\", fov_shape = data_shape[:2], \\\n",
    "                fov_order=data_order, U_data = U.data, \\\n",
    "                U_indices = U.indices,\\\n",
    "                U_indptr=U.indptr, \\\n",
    "                U_shape = U.shape, \\\n",
    "                U_format = type(U), \\\n",
    "                R = R, \\\n",
    "                s = s, \\\n",
    "                Vt = V, \\\n",
    "                 mean_img = mean_img, \\\n",
    "                 noise_var_img = std_img)"
   ]
  },
  {
   "cell_type": "markdown",
   "id": "792abe96-6690-4787-8f85-7585782e8ac3",
   "metadata": {},
   "source": [
    "# Generate a comparison triptych to show how well PMD retains signal from the original movie"
   ]
  },
  {
   "cell_type": "code",
   "execution_count": 5,
   "id": "f8d4ad61-c378-4132-91f3-e68e4733756f",
   "metadata": {},
   "outputs": [
    {
     "name": "stdout",
     "output_type": "stream",
     "text": [
      "!\n",
      "!\n",
      "!\n"
     ]
    }
   ],
   "source": [
    "#### MODIFY THIS. time_range specifies which temporal subset (frames) of the dataset you'd like to view in the triptych\n",
    "time_range = [1500, 3000]\n",
    "####\n",
    "\n",
    "\n",
    "### DO NOT MODIFY\n",
    "order = data_order\n",
    "V_crop = V[:, time_range[0]:time_range[1]]\n",
    "sV = s[:, None] * V_crop\n",
    "RsV = R.dot(sV)\n",
    "mov = U.tocsr().dot(RsV)\n",
    "mov = mov.reshape((data_shape[0], data_shape[1], -1), order = data_order)\n",
    "keys = [i for i in range(time_range[0], time_range[1])]\n",
    "original_dataset = tifffile.imread(input_file, key=keys)"
   ]
  },
  {
   "cell_type": "code",
   "execution_count": 7,
   "id": "f3702207-2675-4186-af5e-1e55511c15b6",
   "metadata": {},
   "outputs": [],
   "source": [
    "#### MODIFY BELOW TO SPATIALLY CROP FIELD OF VIEW (OTHERWISE BELOW CODE SHOWS FULL FOV)\n",
    "x_range_0 = 0\n",
    "x_range_1 = 60\n",
    "y_range_0 = 0\n",
    "y_range_1 = 80\n",
    "\n",
    "\n",
    "### DO NOT MODIFY\n",
    "original_dataset_crop = original_dataset[:, x_range_0:x_range_1, y_range_0:y_range_1].transpose(1,2,0)\n",
    "noise_var_img = std_img[x_range_0:x_range_1, y_range_0:y_range_1, None]\n",
    "mean_img = mean_img[x_range_0:x_range_1, y_range_0:y_range_1, None]\n",
    "mov_crop = mov[x_range_0:x_range_1, y_range_0:y_range_1, :]\n",
    "mov_crop_rescaled = mov_crop * noise_var_img + mean_img\n",
    "overall_result = np.zeros((mov_crop.shape[0], mov_crop.shape[1]*3, mov_crop.shape[2]))\n",
    "overall_result[:, :mov_crop.shape[1], :] = original_dataset_crop\n",
    "overall_result[:, mov_crop.shape[1]:mov_crop.shape[1]*2, :] = mov_crop_rescaled\n",
    "overall_result[:, mov_crop.shape[1]*2:, :] = original_dataset_crop - mov_crop_rescaled"
   ]
  },
  {
   "cell_type": "code",
   "execution_count": 9,
   "id": "c7d18a63-2db7-4117-a97e-a0661135f24e",
   "metadata": {},
   "outputs": [],
   "source": [
    "### BELOW LINE SAVES TRIPTYCH, FOR LOCAL VIEWING (INMAGEJ, ETC.) \n",
    "'''\n",
    "Note the triptych has three \"panels\". The leftmost panels hows the raw movie, the center panel\n",
    "shows the PMD output and the right most panel shows the \"residual\" (the difference between PMD and the raw data)\n",
    "'''\n",
    "tifffile.imwrite(\"Demo_SidebySide_Triptych.tiff\", overall_result.transpose(2, 0, 1).astype(\"float32\"))"
   ]
  }
 ],
 "metadata": {
  "kernelspec": {
   "display_name": "Python 3 (ipykernel)",
   "language": "python",
   "name": "python3"
  },
  "language_info": {
   "codemirror_mode": {
    "name": "ipython",
    "version": 3
   },
   "file_extension": ".py",
   "mimetype": "text/x-python",
   "name": "python",
   "nbconvert_exporter": "python",
   "pygments_lexer": "ipython3",
   "version": "3.9.16"
  }
 },
 "nbformat": 4,
 "nbformat_minor": 5
}
