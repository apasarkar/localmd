{
 "cells": [
  {
   "cell_type": "code",
   "execution_count": 11,
   "id": "3e74c0e1-964b-4498-b221-1f01f66ff0d3",
   "metadata": {},
   "outputs": [
    {
     "name": "stdout",
     "output_type": "stream",
     "text": [
      "The autoreload extension is already loaded. To reload it, use:\n",
      "  %reload_ext autoreload\n"
     ]
    }
   ],
   "source": [
    "import localmd\n",
    "import matplotlib.pyplot as plt\n",
    "\n",
    "\n",
    "import scipy\n",
    "import scipy.sparse\n",
    "import jax\n",
    "import jax.scipy\n",
    "import jax.numpy as jnp\n",
    "from jax import jit, vmap\n",
    "import numpy as np\n",
    "import math\n",
    "\n",
    "import os\n",
    "import tifffile\n",
    "\n",
    "%load_ext autoreload"
   ]
  },
  {
   "cell_type": "markdown",
   "id": "8eb646e8-887c-4963-bf36-b8ab98e5eb6c",
   "metadata": {},
   "source": [
    "# Specify the dataset in the below panel. See PMD documentation for easy ways to add support for your custom data formats. We provide default support for single, multipage tiff files. "
   ]
  },
  {
   "cell_type": "code",
   "execution_count": 6,
   "id": "afbdb6d2-e175-4e1d-90b9-f337c8fd08f7",
   "metadata": {},
   "outputs": [],
   "source": [
    "input_file = \"../datasets/demoMovie.tif\"\n",
    "current_dataset = localmd.TiffArray(input_file)"
   ]
  },
  {
   "cell_type": "markdown",
   "id": "3a3bc9e6-5c3a-472f-ba04-b1583b598bd9",
   "metadata": {},
   "source": [
    "# Specify params, run PMD"
   ]
  },
  {
   "cell_type": "code",
   "execution_count": 7,
   "id": "934cb0a8-e04a-469b-a382-676dc1db367c",
   "metadata": {},
   "outputs": [],
   "source": [
    "block_sizes = [32, 32]\n",
    "frame_range = 5000\n",
    "max_components = 20\n",
    "background_rank = 1\n",
    "rank_pruning = True\n",
    "\n",
    "current_video = localmd.localmd_decomposition(current_dataset,\n",
    "                                               block_sizes,\n",
    "                                               frame_range,\n",
    "                                               max_components=max_components, \n",
    "                                               background_rank=background_rank,\n",
    "                                               sim_conf=5,\n",
    "                                               frame_batch_size = 1000,\n",
    "                                               dtype='float32',\n",
    "                                               pixel_batch_size=5000,\n",
    "                                               max_consecutive_failures = 1,\n",
    "                                               rank_prune=rank_pruning,\n",
    "                                               temporal_avg_factor=10)"
   ]
  },
  {
   "cell_type": "markdown",
   "id": "1e2a303b-4b92-4704-9d21-7205175da993",
   "metadata": {},
   "source": [
    "# The PMDArray object is a convenient representation of the PMD decomposition of the data. You can use this object to interact with the decomposition via standard \"array-like\" functionality: \n",
    "\n",
    "\n",
    "### CAUTION: Doing something like current_video[:, :, :] will involve returning the full dataset. You'll notice PMD is a massively compressed representation of the data and can fit into your system's RAM, thanks to a matrix factorization. By running current_video[:, :, :] you are expanding out that matrix factorization and explicitly returning a matrix whose dimensions is the dimensions of your full movie: for big data this will construct a movie of shape (data_shape). Instead, intended use is to look at subsets of the data efficiently (load some frames, spatially crop the data, and do combinations of these two operations) like below: "
   ]
  },
  {
   "cell_type": "code",
   "execution_count": 1,
   "id": "af8db3aa-585d-45ac-aad1-55dd853259b8",
   "metadata": {},
   "outputs": [],
   "source": [
    "#Here is how to plot single pixels of the data:\n",
    "plt.figure()\n",
    "plt.plot(current_video[:, 30, 40])\n",
    "plt.show()\n",
    "\n",
    "#Here is how to work with frames of the data: \n",
    "plt.figure()\n",
    "plt.imshow(current_video[100, :, :])\n",
    "plt.show()\n",
    "\n",
    "\n",
    "#Here is how to do both combinations of things: \n",
    "plt.figure()\n",
    "plt.imshow(current_video[50, 20:40, 10:30])\n",
    "plt.show()"
   ]
  },
  {
   "cell_type": "markdown",
   "id": "52be3f7d-9284-4876-982a-c029881e3f4c",
   "metadata": {},
   "source": [
    "# Save the individual matrices of the PMD decomposition into a NPZ file"
   ]
  },
  {
   "cell_type": "code",
   "execution_count": 13,
   "id": "cbf94bc1-6d3a-4bd6-b674-6af77834bd30",
   "metadata": {},
   "outputs": [],
   "source": [
    "npz_save_name = \"INSERT_SAVE_NAME_HERE.npz\"\n",
    "U = current_video.U_sparse\n",
    "R = current_video.R\n",
    "s = current_video.s\n",
    "V = current_video.V\n",
    "mean_img = current_video.mean_img\n",
    "std_img = current_video.var_img\n",
    "data_shape = current_video.shape\n",
    "order = current_video.order\n",
    "\n",
    "\n",
    "np.savez(npz_save_name, fov_shape = data_shape[1:], \\\n",
    "                fov_order=order, U_data = U.data, \\\n",
    "                U_indices = U.indices,\\\n",
    "                U_indptr=U.indptr, \\\n",
    "                U_shape = U.shape, \\\n",
    "                U_format = type(U), \\\n",
    "                R = R, \\\n",
    "                s = s, \\\n",
    "                Vt = V, \\\n",
    "                mean_img = mean_img, \\\n",
    "                noise_var_img = std_img)"
   ]
  },
  {
   "cell_type": "markdown",
   "id": "4881e757-2e33-4579-9e95-1db5129c5f23",
   "metadata": {},
   "source": [
    "# How to load the data from our standard .npz representation"
   ]
  },
  {
   "cell_type": "code",
   "execution_count": 17,
   "id": "b0807486-5161-4f4e-853b-8649ef7ad4d8",
   "metadata": {},
   "outputs": [],
   "source": [
    "data = np.load(npz_save_name, allow_pickle=True)\n",
    "U = scipy.sparse.csr_matrix(\n",
    "    (data['U_data'], data['U_indices'], data['U_indptr']),\n",
    "    shape=data['U_shape']\n",
    ").tocoo()\n",
    "V = data['Vt']\n",
    "R = data['R']\n",
    "s = data['s']\n",
    "mean_img = data['mean_img']\n",
    "std_img = data['noise_var_img']\n",
    "data_shape = (V.shape[1], data['fov_shape'][0], data['fov_shape'][1])\n",
    "data_order = data['fov_order'].item()\n",
    "\n",
    "current_video = PMDArray(U, R, s, V, data_shape, data_order, mean_img, std_img)"
   ]
  },
  {
   "cell_type": "markdown",
   "id": "792abe96-6690-4787-8f85-7585782e8ac3",
   "metadata": {},
   "source": [
    "# Generate a comparison triptych to show how well PMD retains signal from the original movie"
   ]
  },
  {
   "cell_type": "code",
   "execution_count": 18,
   "id": "f8d4ad61-c378-4132-91f3-e68e4733756f",
   "metadata": {},
   "outputs": [],
   "source": [
    "cropped_dataset = current_dataset[:, :, :]\n",
    "cropped_pmd = current_video[:, :, :]\n",
    "cropped_residual = cropped_dataset - cropped_pmd\n",
    "\n",
    "output_triptych = np.concatenate([cropped_dataset, cropped_pmd, cropped_residual], axis = 2)\n",
    "\n",
    "## Modify the filename below as desired\n",
    "filename_to_save = \"Denoised_Vs_Raw_Comparison.tiff\"\n",
    "\n",
    "#The below line saves the tiff file\n",
    "tifffile.imwrite(filename_to_save, output_triptych)"
   ]
  }
 ],
 "metadata": {
  "kernelspec": {
   "display_name": "Python 3 (ipykernel)",
   "language": "python",
   "name": "python3"
  },
  "language_info": {
   "codemirror_mode": {
    "name": "ipython",
    "version": 3
   },
   "file_extension": ".py",
   "mimetype": "text/x-python",
   "name": "python",
   "nbconvert_exporter": "python",
   "pygments_lexer": "ipython3",
   "version": "3.11.9"
  }
 },
 "nbformat": 4,
 "nbformat_minor": 5
}
