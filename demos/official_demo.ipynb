{
 "cells": [
  {
   "cell_type": "code",
   "execution_count": 2,
   "id": "3e74c0e1-964b-4498-b221-1f01f66ff0d3",
   "metadata": {},
   "outputs": [],
   "source": [
    "from localmd.decomposition import localmd_decomposition, display, factored_svd, windowed_pmd, single_residual_block_md, get_projector\n",
    "from localmd.dataset import MultipageTiffDataset\n",
    "import localmd.visualization \n",
    "from localmd.visualization import generate_PMD_comparison_triptych\n",
    "\n",
    "import scipy\n",
    "import scipy.sparse\n",
    "import jax\n",
    "import jax.scipy\n",
    "import jax.numpy as jnp\n",
    "from jax import jit, vmap\n",
    "import numpy as np\n",
    "import math\n",
    "\n",
    "import os\n",
    "import tifffile\n",
    "\n",
    "%load_ext autoreload"
   ]
  },
  {
   "cell_type": "markdown",
   "id": "8eb646e8-887c-4963-bf36-b8ab98e5eb6c",
   "metadata": {},
   "source": [
    "# Specify the dataset in the below panel. See PMD documentation for easy ways to add support for your custom data formats. We provide default support for single, multipage tiff files. "
   ]
  },
  {
   "cell_type": "code",
   "execution_count": 2,
   "id": "afbdb6d2-e175-4e1d-90b9-f337c8fd08f7",
   "metadata": {},
   "outputs": [],
   "source": [
    "input_file = \"../datasets/demoMovie.tif\"\n",
    "current_dataset = MultipageTiffDataset(input_file)"
   ]
  },
  {
   "cell_type": "markdown",
   "id": "3a3bc9e6-5c3a-472f-ba04-b1583b598bd9",
   "metadata": {},
   "source": [
    "# Below panel specifies the parameters for running the method"
   ]
  },
  {
   "cell_type": "code",
   "execution_count": 7,
   "id": "934cb0a8-e04a-469b-a382-676dc1db367c",
   "metadata": {},
   "outputs": [],
   "source": [
    "#Default parameters (can be modified..)\n",
    "\n",
    "pmd_params_dict = {\n",
    "    'block_height':20,\n",
    "    'block_width':20,\n",
    "    'frames_to_init':5000,\n",
    "    'background_rank':1,\n",
    "    'max_consec_failures':1,\n",
    "    'max_components':40,\n",
    "}\n",
    "\n",
    "\n",
    "#NOTE: this data folder will also contain the location of the TestData\n",
    "block_height = pmd_params_dict['block_height']\n",
    "block_width = pmd_params_dict['block_width'] \n",
    "\n",
    "block_sizes = [block_height, block_width]\n",
    "\n",
    "max_consec_failures = pmd_params_dict['max_consec_failures']\n",
    "frames_to_init = pmd_params_dict['frames_to_init']\n",
    "background_rank = pmd_params_dict['background_rank'] \n",
    "\n",
    "###THESE PARAMS ARE NEVER MODIFIED\n",
    "sim_conf = 5\n",
    "\n",
    "max_components = pmd_params_dict['max_components']\n",
    "\n",
    "corrector = None\n",
    "\n",
    "frame_batch_size = 2000\n",
    "pixel_batch_size = 10000\n",
    "dtype=\"float32\"\n",
    "\n",
    "order = \"F\""
   ]
  },
  {
   "cell_type": "markdown",
   "id": "716593cb-c7c8-4585-b47e-f984db24094c",
   "metadata": {},
   "source": [
    "# Run PMD"
   ]
  },
  {
   "cell_type": "code",
   "execution_count": 1,
   "id": "1a089525-eb3c-4fd3-a066-b6f593308216",
   "metadata": {},
   "outputs": [],
   "source": [
    "U, R, s, V, std_img, mean_img, data_shape, data_order = localmd_decomposition(current_dataset, block_sizes, frames_to_init, \\\n",
    "                                max_components=max_components, background_rank = background_rank, sim_conf=sim_conf,\\\n",
    "                                 frame_batch_size=frame_batch_size,pixel_batch_size=pixel_batch_size, dtype=dtype, order=order, \\\n",
    "                                 num_workers=0, frame_corrector_obj = corrector, max_consec_failures=max_consec_failures)"
   ]
  },
  {
   "cell_type": "markdown",
   "id": "52be3f7d-9284-4876-982a-c029881e3f4c",
   "metadata": {},
   "source": [
    "# Save the compressed results into a NPZ file"
   ]
  },
  {
   "cell_type": "code",
   "execution_count": 6,
   "id": "cbf94bc1-6d3a-4bd6-b674-6af77834bd30",
   "metadata": {},
   "outputs": [],
   "source": [
    "npz_save_name = \"INSERT_SAVE_NAME_HERE.npz\"\n",
    "U = U.tocsr()\n",
    "np.savez(npz_save_name, fov_shape = data_shape[:2], \\\n",
    "                fov_order=data_order, U_data = U.data, \\\n",
    "                U_indices = U.indices,\\\n",
    "                U_indptr=U.indptr, \\\n",
    "                U_shape = U.shape, \\\n",
    "                U_format = type(U), \\\n",
    "                R = R, \\\n",
    "                s = s, \\\n",
    "                Vt = V, \\\n",
    "                 mean_img = mean_img, \\\n",
    "                 noise_var_img = std_img)"
   ]
  },
  {
   "cell_type": "markdown",
   "id": "792abe96-6690-4787-8f85-7585782e8ac3",
   "metadata": {},
   "source": [
    "# Generate a comparison triptych to show how well PMD retains signal from the original movie"
   ]
  },
  {
   "cell_type": "code",
   "execution_count": 9,
   "id": "f8d4ad61-c378-4132-91f3-e68e4733756f",
   "metadata": {},
   "outputs": [],
   "source": [
    "########### MODIFY ENCLOSED VARIABLES AS DESIRED:\n",
    "\n",
    "#These two intervals specify what part of the FOV we want to analyze. The below parameters mean that we will crop the FOV at [0, 100] x [0, 100] \n",
    "# when generating the comparison video\n",
    "dim1_interval = [0, 100]\n",
    "dim2_interval = [0, 100] \n",
    "\n",
    "#Specify which frames you want to see\n",
    "start_frame = 0\n",
    "end_frame = 2000\n",
    "frames = [i for i in range(start_frame, end_frame)]\n",
    "############# \n",
    "\n",
    "\n",
    "\n",
    "output_triptych = generate_PMD_comparison_triptych(current_dataset, frames, U, R, s, V, mean_img, std_img, data_order, data_shape,\\\n",
    "                                 dim1_interval, dim2_interval, frame_corrector=None)"
   ]
  },
  {
   "cell_type": "markdown",
   "id": "de09b654-96b6-4aec-83f6-fc0536b8b447",
   "metadata": {},
   "source": [
    "# Save the comparison triptych as a multipage tiff file for easy viewing in imageJ"
   ]
  },
  {
   "cell_type": "code",
   "execution_count": 10,
   "id": "8aec6392-cd7b-4939-8e13-6cc03c220710",
   "metadata": {},
   "outputs": [],
   "source": [
    "## Save the triptych as a tiff file, which can be viewed in imageJ\n",
    "\n",
    "## Modify the filename below as desired\n",
    "filename_to_save = \"Denoised_Vs_Raw_Comparison.tiff\"\n",
    "\n",
    "#The below line saves the tiff file\n",
    "tifffile.imwrite(filename_to_save, output_triptych.transpose(2, 0, 1).astype(\"float32\"))"
   ]
  }
 ],
 "metadata": {
  "kernelspec": {
   "display_name": "Python 3 (ipykernel)",
   "language": "python",
   "name": "python3"
  },
  "language_info": {
   "codemirror_mode": {
    "name": "ipython",
    "version": 3
   },
   "file_extension": ".py",
   "mimetype": "text/x-python",
   "name": "python",
   "nbconvert_exporter": "python",
   "pygments_lexer": "ipython3",
   "version": "3.9.16"
  }
 },
 "nbformat": 4,
 "nbformat_minor": 5
}
